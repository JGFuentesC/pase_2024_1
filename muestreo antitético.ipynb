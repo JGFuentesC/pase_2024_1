{
 "cells": [
  {
   "cell_type": "markdown",
   "metadata": {},
   "source": [
    "## Dependencias"
   ]
  },
  {
   "cell_type": "code",
   "execution_count": 8,
   "metadata": {},
   "outputs": [],
   "source": [
    "import numpy as np \n",
    "import pandas as pd\n",
    "import matplotlib.pyplot as plt\n",
    "import seaborn as sns"
   ]
  },
  {
   "cell_type": "code",
   "execution_count": 9,
   "metadata": {},
   "outputs": [],
   "source": [
    "n = 1000000"
   ]
  },
  {
   "cell_type": "code",
   "execution_count": 10,
   "metadata": {},
   "outputs": [
    {
     "name": "stdout",
     "output_type": "stream",
     "text": [
      "media = 1.7176670642884007, varianza = 0.12081892110812623\n"
     ]
    }
   ],
   "source": [
    "U = np.random.uniform(size=n)\n",
    "theta = np.exp(U).mean()\n",
    "var = np.exp(U).var()/2\n",
    "print(f'media = {theta}, varianza = {var}')"
   ]
  },
  {
   "cell_type": "code",
   "execution_count": 11,
   "metadata": {},
   "outputs": [
    {
     "name": "stdout",
     "output_type": "stream",
     "text": [
      "media = 1.718270289495591, error estándar = 0.003987005236764554\n"
     ]
    }
   ],
   "source": [
    "U = np.random.uniform(size=n//2)\n",
    "theta = (np.exp(U).mean()+np.exp(1-U).mean())/2\n",
    "cov = (np.exp(U)*np.exp(1-U)).mean()-np.exp(U).mean()*np.exp(1-U).mean()\n",
    "var = (np.exp(U).var()+cov)/2\n",
    "print(f'media = {theta}, error estándar = {var}')"
   ]
  },
  {
   "cell_type": "code",
   "execution_count": null,
   "metadata": {},
   "outputs": [],
   "source": []
  }
 ],
 "metadata": {
  "kernelspec": {
   "display_name": "ins",
   "language": "python",
   "name": "ins"
  },
  "language_info": {
   "codemirror_mode": {
    "name": "ipython",
    "version": 3
   },
   "file_extension": ".py",
   "mimetype": "text/x-python",
   "name": "python",
   "nbconvert_exporter": "python",
   "pygments_lexer": "ipython3",
   "version": "3.10.12"
  }
 },
 "nbformat": 4,
 "nbformat_minor": 2
}
